{
 "cells": [
  {
   "cell_type": "code",
   "execution_count": 1,
   "id": "c0445a13",
   "metadata": {},
   "outputs": [
    {
     "name": "stdout",
     "output_type": "stream",
     "text": [
      "Average: 40.0\n"
     ]
    }
   ],
   "source": [
    "# Calculate the average gas fee from a list of daily Ethereum gas fees.\n",
    "\n",
    "gas_fee = [30, 40, 35, 50, 45]\n",
    "x = 0\n",
    "num = len(gas_fee)\n",
    "for i in gas_fee:\n",
    "    x += i\n",
    "\n",
    "print(f'Average: {x/num}')"
   ]
  },
  {
   "cell_type": "code",
   "execution_count": 2,
   "id": "8bd04de4",
   "metadata": {},
   "outputs": [
    {
     "name": "stdout",
     "output_type": "stream",
     "text": [
      "Day with highest transactions is: Day 4\n"
     ]
    }
   ],
   "source": [
    "# Find the day with the highest number of transactions on a blockchain.\n",
    "\n",
    "transactions = [1200, 1400, 1350, 1600, 1100]\n",
    "\n",
    "max_tx = 0          \n",
    "max_day = 0         \n",
    "day = 0             \n",
    "\n",
    "for tx in transactions:\n",
    "    day += 1\n",
    "    if tx > max_tx:\n",
    "        max_tx = tx\n",
    "        max_day = day\n",
    "\n",
    "print(f\"Day with highest transactions is: Day {max_day}\")  \n"
   ]
  },
  {
   "cell_type": "code",
   "execution_count": 3,
   "id": "2417c763",
   "metadata": {},
   "outputs": [
    {
     "name": "stdout",
     "output_type": "stream",
     "text": [
      "Min: 2.0, Max: 2.8\n"
     ]
    }
   ],
   "source": [
    "# Determine the lowest and highest price of a token over a week.\n",
    "prices = [2.1, 2.5, 2.0, 2.8, 2.6]\n",
    "\n",
    "l_price = prices[0]\n",
    "h_price = prices[0]\n",
    "\n",
    "for price in prices[1:]:\n",
    "    if price < l_price:\n",
    "        l_price = price\n",
    "    if price > h_price:\n",
    "        h_price = price\n",
    "\n",
    "print(f\"Min: {l_price}, Max: {h_price}\")"
   ]
  },
  {
   "cell_type": "code",
   "execution_count": 4,
   "id": "50bf624b",
   "metadata": {},
   "outputs": [
    {
     "name": "stdout",
     "output_type": "stream",
     "text": [
      "List of moving averages: [1.17, 1.3, 1.43]\n"
     ]
    }
   ],
   "source": [
    "# Compute the simple moving average of a token’s price for a given window.\n",
    "prices = [1.0, 1.2, 1.3, 1.4, 1.6]\n",
    "window_period = 3\n",
    "\n",
    "moving_averages = []\n",
    "\n",
    "for i in range(len(prices) - window_period + 1):\n",
    "    window = prices[i:i + window_period]        \n",
    "    avg = sum(window) / window_period\n",
    "    moving_averages.append(round(avg,2))\n",
    "\n",
    "print(f\"List of moving averages: {moving_averages}\")"
   ]
  },
  {
   "cell_type": "code",
   "execution_count": 5,
   "id": "fa9c2171",
   "metadata": {},
   "outputs": [
    {
     "name": "stdout",
     "output_type": "stream",
     "text": [
      "Number of profitable days is: 3 days\n"
     ]
    }
   ],
   "source": [
    "#  Count the number of days a trader had a positive return on a DEX.\n",
    "pnl = [0.03, -0.02, 0.01, 0.04, -0.01]\n",
    "\n",
    "profitable_days = 0\n",
    "\n",
    "for day in pnl:\n",
    "    if day > 0:\n",
    "        profitable_days += 1\n",
    "\n",
    "print(f\"Number of profitable days is: {profitable_days} days\")\n"
   ]
  },
  {
   "cell_type": "code",
   "execution_count": 6,
   "id": "2e527497",
   "metadata": {},
   "outputs": [
    {
     "name": "stdout",
     "output_type": "stream",
     "text": [
      "Average tokens held: 187.5\n"
     ]
    }
   ],
   "source": [
    "# Calculate the average number of tokens held across wallets.\n",
    "wallet = [100, 200, 150, 300]\n",
    "\n",
    "total_tokens = 0\n",
    "no_count = 0\n",
    "\n",
    "for tokens in wallet:\n",
    "    total_tokens += tokens\n",
    "    no_count += 1\n",
    "\n",
    "average_tokens = total_tokens / no_count\n",
    "\n",
    "print(f\"Average tokens held: {average_tokens}\")"
   ]
  },
  {
   "cell_type": "code",
   "execution_count": 7,
   "id": "2fc8768e",
   "metadata": {},
   "outputs": [
    {
     "name": "stdout",
     "output_type": "stream",
     "text": [
      "Number of wallets above threshold: 3 wallets\n"
     ]
    }
   ],
   "source": [
    "# Count the number of wallets holding more than 100 tokens.\n",
    "holdings = [50, 150, 120, 80, 200]\n",
    "\n",
    "holding_cap = 100\n",
    "no_above_cap_value = 0\n",
    "\n",
    "for tokens in holdings:\n",
    "    if tokens > holding_cap:\n",
    "        no_above_cap_value += 1\n",
    "\n",
    "print(f\"Number of wallets above threshold: {no_above_cap_value} wallets\")"
   ]
  },
  {
   "cell_type": "code",
   "execution_count": 8,
   "id": "6e153aaf",
   "metadata": {},
   "outputs": [
    {
     "name": "stdout",
     "output_type": "stream",
     "text": [
      "Total gas used: 103000\n"
     ]
    }
   ],
   "source": [
    "# Calculate total gas used by multiple wallets across transactions.\n",
    "gas_used = [21000, 50000, 32000]\n",
    "\n",
    "total_gas = 0\n",
    "\n",
    "for gas in gas_used:\n",
    "    total_gas += gas\n",
    "\n",
    "print(f\"Total gas used: {total_gas}\")"
   ]
  },
  {
   "cell_type": "code",
   "execution_count": 9,
   "id": "af6764b3",
   "metadata": {},
   "outputs": [
    {
     "name": "stdout",
     "output_type": "stream",
     "text": [
      "Total tokens distributed: 250\n"
     ]
    }
   ],
   "source": [
    "# Calculate the total tokens distributed in an airdrop across multiple addresses.\n",
    "airdrop_amounts = [50, 75, 100, 25]\n",
    "\n",
    "total_tokens = 0\n",
    "\n",
    "for tokens in airdrop_amounts:\n",
    "    total_tokens += tokens\n",
    "\n",
    "print(f\"Total tokens distributed: {total_tokens}\")"
   ]
  },
  {
   "cell_type": "code",
   "execution_count": 10,
   "id": "ee44c157",
   "metadata": {},
   "outputs": [
    {
     "name": "stdout",
     "output_type": "stream",
     "text": [
      "Average fee: 1.125\n"
     ]
    }
   ],
   "source": [
    "# Find the average fee users pay when bridging tokens across chains.\n",
    "fees = [1.2, 0.8, 1.0, 1.5]\n",
    "\n",
    "total_fee = 0\n",
    "count = 0\n",
    "\n",
    "for fee in fees:\n",
    "    total_fee += fee\n",
    "    count += 1\n",
    "\n",
    "average_fee = total_fee / count\n",
    "\n",
    "print(f\"Average fee: {average_fee}\")"
   ]
  },
  {
   "cell_type": "code",
   "execution_count": 11,
   "id": "55324c5f",
   "metadata": {},
   "outputs": [
    {
     "name": "stdout",
     "output_type": "stream",
     "text": [
      "Bullish\n"
     ]
    }
   ],
   "source": [
    "#  Classify a token’s price movement as “Bullish” if it increased, “Bearish” if decreased.\n",
    "previous_price = 2.0\n",
    "current_price = 2.3\n",
    "\n",
    "if current_price > previous_price:\n",
    "    bias = \"Bullish\"\n",
    "elif current_price < previous_price:\n",
    "    bias = \"Bearish\"\n",
    "else:\n",
    "    bias = \"No Change\"\n",
    "\n",
    "print(bias)"
   ]
  },
  {
   "cell_type": "code",
   "execution_count": 12,
   "id": "28aa418f",
   "metadata": {},
   "outputs": [
    {
     "name": "stdout",
     "output_type": "stream",
     "text": [
      "High gas fee alert!\n"
     ]
    }
   ],
   "source": [
    "# Alert if Ethereum gas fee exceeds a given threshold (e.g., 100 Gwei)\n",
    "gas_fee = 120\n",
    "threshold = 100\n",
    "\n",
    "if gas_fee > threshold:\n",
    "    print(\"High gas fee alert!\")\n",
    "else:\n",
    "    print(\"Gas fee is normal.\")"
   ]
  },
  {
   "cell_type": "code",
   "execution_count": 13,
   "id": "df2bea4e",
   "metadata": {},
   "outputs": [
    {
     "name": "stdout",
     "output_type": "stream",
     "text": [
      "Whale wallet\n"
     ]
    }
   ],
   "source": [
    "# Identify if a wallet is a whale based on token balance (>10,000 tokens).\n",
    "token_balance = 11000\n",
    "threshold = 10000\n",
    "\n",
    "if token_balance > threshold:\n",
    "    print(\"Whale wallet\")\n",
    "else:\n",
    "    print(\"Regular wallet\")"
   ]
  },
  {
   "cell_type": "code",
   "execution_count": 14,
   "id": "8c285e3a",
   "metadata": {},
   "outputs": [
    {
     "name": "stdout",
     "output_type": "stream",
     "text": [
      "Suspicious\n"
     ]
    }
   ],
   "source": [
    "# Flag a transaction as “Suspicious” if the amount is above 1 million tokens.\n",
    "transfer_amount = 1200000\n",
    "threshold = 1000000\n",
    "\n",
    "if transfer_amount > threshold:\n",
    "    print(\"Suspicious\")\n",
    "else:\n",
    "    print(\"Normal\")\n"
   ]
  },
  {
   "cell_type": "code",
   "execution_count": 15,
   "id": "26fdb649",
   "metadata": {},
   "outputs": [
    {
     "name": "stdout",
     "output_type": "stream",
     "text": [
      "High slippage detected\n"
     ]
    }
   ],
   "source": [
    "# Warn users if the slippage is greater than 5%.\n",
    "slippage = 6.5\n",
    "threshold = 5.0\n",
    "\n",
    "if slippage > threshold:\n",
    "    print(\"High slippage detected\")\n",
    "else:\n",
    "    print(\"Slippage within safe range\")"
   ]
  },
  {
   "cell_type": "code",
   "execution_count": 16,
   "id": "c6b40974",
   "metadata": {},
   "outputs": [
    {
     "name": "stdout",
     "output_type": "stream",
     "text": [
      "Sold Out\n"
     ]
    }
   ],
   "source": [
    "# Check if an NFT is sold out or available for mint.\n",
    "total_supply = 10000\n",
    "minted_count = 10000\n",
    "\n",
    "if minted_count == total_supply:\n",
    "    print(\"Sold Out\")\n",
    "else:\n",
    "    print(\"Available for Mint\")"
   ]
  },
  {
   "cell_type": "code",
   "execution_count": 17,
   "id": "2813d030",
   "metadata": {},
   "outputs": [
    {
     "name": "stdout",
     "output_type": "stream",
     "text": [
      "Depegged\n"
     ]
    }
   ],
   "source": [
    "# Determine if a stablecoin is depegged (if price deviates from $1 by more than ±5%).\n",
    "stablecoin_price = 0.93\n",
    "peg_price = 1.00\n",
    "deviation_cap = 0.05\n",
    "\n",
    "lower_deviation = peg_price - deviation_cap\n",
    "upper_deviation = peg_price + deviation_cap\n",
    "\n",
    "if stablecoin_price < lower_deviation or stablecoin_price > upper_deviation:\n",
    "    print(\"Depegged\")\n",
    "else:\n",
    "    print(\"Stable\")\n"
   ]
  },
  {
   "cell_type": "code",
   "execution_count": 18,
   "id": "8552a0df",
   "metadata": {},
   "outputs": [
    {
     "name": "stdout",
     "output_type": "stream",
     "text": [
      "Not eligible\n"
     ]
    }
   ],
   "source": [
    "# Check if a user qualifies for staking rewards (must stake ≥ 500 tokens).\n",
    "tokens_staked = 250\n",
    "threshold = 500\n",
    "\n",
    "if tokens_staked >= threshold:\n",
    "    print(\"Eligible\")\n",
    "else:\n",
    "    print(\"Not eligible\")"
   ]
  },
  {
   "cell_type": "code",
   "execution_count": 19,
   "id": "55a205f7",
   "metadata": {},
   "outputs": [
    {
     "name": "stdout",
     "output_type": "stream",
     "text": [
      "Eligible\n"
     ]
    }
   ],
   "source": [
    "# Check if a wallet is eligible for airdrop (must hold a specific token and have at least 5 transactions).\n",
    "solana_holdings = 100\n",
    "num_tx = 6\n",
    "\n",
    "if solana_holdings > 0 and num_tx >= 5:\n",
    "    print(\"Eligible\")\n",
    "else:\n",
    "    print(\"Not eligible\")"
   ]
  },
  {
   "cell_type": "code",
   "execution_count": 20,
   "id": "9a661f7c",
   "metadata": {},
   "outputs": [
    {
     "name": "stdout",
     "output_type": "stream",
     "text": [
      "Flagged\n"
     ]
    }
   ],
   "source": [
    "# Flag if a transaction fee is greater than 5% of transaction amount.\n",
    "tx_fee = 3\n",
    "tx_amount = 50\n",
    "benchmark_percent = 5\n",
    "\n",
    "fee_percent = (tx_fee / tx_amount) * 100\n",
    "\n",
    "if fee_percent > benchmark_percent:\n",
    "    print(\"Flagged\")\n",
    "else:\n",
    "    print(\"Efficient\")"
   ]
  }
 ],
 "metadata": {
  "kernelspec": {
   "display_name": "blockchain",
   "language": "python",
   "name": "python3"
  },
  "language_info": {
   "codemirror_mode": {
    "name": "ipython",
    "version": 3
   },
   "file_extension": ".py",
   "mimetype": "text/x-python",
   "name": "python",
   "nbconvert_exporter": "python",
   "pygments_lexer": "ipython3",
   "version": "3.12.3"
  }
 },
 "nbformat": 4,
 "nbformat_minor": 5
}
