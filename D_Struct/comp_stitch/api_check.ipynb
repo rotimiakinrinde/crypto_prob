{
 "cells": [
  {
   "cell_type": "markdown",
   "id": "17fc0791",
   "metadata": {},
   "source": [
    "## API Overview"
   ]
  },
  {
   "cell_type": "markdown",
   "id": "1be6e7ca",
   "metadata": {},
   "source": [
    "#### What is API?\n",
    "\n",
    "A set of rules that allows software programs to communicate with each other. It defines how requests for services or data should be made, and how responses should be retumed.\n",
    "\n",
    "#### What is a HTTP Method?\n",
    "\n",
    "The types of actions you can perform when making an API request over the web (HTTP stands for Hyper Text Transfer Protocol)\n",
    "\n",
    "Common HTTP methods:\n",
    "\n",
    "<span style=\"color:red; background-color: lightgrey\">GET</span>: Retrieve data (eg, get a user's info)\n",
    "\n",
    "<span style=\"color:red; background-color: lightgrey\">POST</span>: Send data (eg, create a new user)\n",
    "\n",
    "<span style=\"color:red; background-color: lightgrey\">PUT</span>: Update existing data\n",
    "\n",
    "<span style=\"color:red; background-color: lightgrey\">DELETE</span>: Remove data"
   ]
  },
  {
   "cell_type": "markdown",
   "id": "f123163f",
   "metadata": {},
   "source": [
    "- API Paramter Options that can be passed with the endpoint to influence the response (filter response from all-time to last year, specify which token, etc) \n",
    "    - Path Paramter Part of the URL path itself, used to identify a specific resource <span style=\"color:red; background-color: lightgrey\">/coins/(coin)/history</span>\n",
    "\n",
    "    - Query Paramter: Added to the end of the URL, after a ?, and used to filter or modify the data you get back <span style=\"color:red; background-color: lightgrey\">?date 30-12-2024</span>\n",
    "\n",
    "- API Header: Refers to metadata sent along with the HTTP request or response (sometimes used for authentication)\n",
    "\n",
    "#### What are response codes?\n",
    "\n",
    "-  Numbers returned by a server to show the result of an API request.\n",
    "\n",
    "-  Common ones include\n",
    "\n",
    "    - 200 OK Request succeeded\n",
    "\n",
    "    - 201 Created: New resource created (eg, after a POST)\n",
    "\n",
    "    - 400 Bad Request: The request was invalid\n",
    "\n",
    "    - 401 Unauthorized: Authentication is needed or failed\n",
    "\n",
    "    - 404 Not Found Resource doesn't exist\n",
    "\n",
    "    - 500 Internal Server Error Something went wrong on the server"
   ]
  },
  {
   "cell_type": "markdown",
   "id": "baab8861",
   "metadata": {},
   "source": [
    "## API Paramters & Headers"
   ]
  },
  {
   "cell_type": "markdown",
   "id": "f1c33159",
   "metadata": {},
   "source": [
    "## Blockchain Data APIs\n",
    "#### Requests \n",
    "\n",
    "Etherscan API\n",
    "- [docs](https://docs.etherscan.io/etherscan-v2/getting-an-api-key)\n",
    "\n",
    "CoinGecko API\n",
    "- [docs](https://docs.coingecko.com/v3.0.1/reference/setting-up-your-api-key)\n",
    "\n",
    "Supported Chain ID\n",
    "- [docs](https://docs.etherscan.io/etherscan-v2/supported-chains)\n",
    "\n",
    "CoinGecko Intro\n",
    "- [docs](https://docs.coingecko.com/v3.0.1/reference/introduction)\n",
    "\n",
    "\n",
    "\n",
    "Use Case\n",
    "\n",
    "- Allows you to send HTTP requests extremely easily.\n",
    "\n",
    "- We call an endpoint by passing the url and other data to the <span style=\"color:red; background-color: lightgrey\">requests</span> object\n",
    "\n",
    "- A <span style=\"color:red; background-color: lightgrey\">response</span> object is returned\n",
    "\n",
    "#### Example\n",
    "\n",
    "\n",
    "<span style=\"color:blue\">import</span> requests\n",
    "\n",
    "r = requests.get('https://api.github.com/events') <span style=\"color:green\"># Get GitHub's public timeline</span>\n",
    "\n",
    "As you may notice, we are using the get method which we covered earlier. Requests library essentially uses same syntax for ease of use. if we need to make a POST request, we would do <span style=\"color:red; background-color: lightgrey\">requests.post(. . .)</span>"
   ]
  },
  {
   "cell_type": "markdown",
   "id": "2bcb7cef",
   "metadata": {},
   "source": [
    "## Environment"
   ]
  },
  {
   "cell_type": "markdown",
   "id": "22af3173",
   "metadata": {},
   "source": [
    "1. Create env file in project root dir\n",
    "\n",
    "2. Write\n",
    "\n",
    "    - <span style=\"color:red; background-color: lightgrey\">ETHERSCAN API KEY=yourApikey</span>\n",
    "\n",
    "    - <span style=\"color:red; background-color: lightgrey\">COINGECKO APT KEY=yourApiKey</span>"
   ]
  },
  {
   "cell_type": "code",
   "execution_count": null,
   "id": "c57f9056",
   "metadata": {},
   "outputs": [],
   "source": [
    "import requests # Importing the requests library for making HTTP requests\n",
    "import pandas as pd # Importing pandas for data manipulation and analysis\n",
    "import json # Importing json for handling JSON data\n",
    "import os # Importing os for operating system dependent functionality\n",
    "from dotenv import load_dotenv # Importing load_dotenv to load environment variables from a .env file"
   ]
  },
  {
   "cell_type": "code",
   "execution_count": null,
   "id": "dda08c59",
   "metadata": {},
   "outputs": [],
   "source": [
    "# load the environment variables\n",
    "load_dotenv()\n",
    "\n",
    "ETHERSCAN_API_KEY = os.getenv('ETHERSCAN_API_KEY') # Fetching the Etherscan API key from environment variables\n",
    "COINGECKO_API_KEY = os.getenv('COINGECKO_API_KEY') # Fetching the CoinPaprika API key from environment variables\n",
    "\n",
    "if not ETHERSCAN_API_KEY or not COINGECKO_API_KEY:\n",
    "    raise ValueError(\"Please set the ETHERSCAN_API_KEY and COINGECKO_API_KEY environment variables.\")"
   ]
  },
  {
   "cell_type": "markdown",
   "id": "690b24b4",
   "metadata": {},
   "source": [
    "## Etherscan"
   ]
  },
  {
   "cell_type": "code",
   "execution_count": null,
   "id": "18932f5d",
   "metadata": {},
   "outputs": [],
   "source": [
    "etherscan_url = 'https://api.etherscan.io/v2/api' # Etherscan API endpoint we will be using"
   ]
  },
  {
   "cell_type": "markdown",
   "id": "14dda72a",
   "metadata": {},
   "source": [
    "## Get Ether Balance for a specific address using Etherscan API"
   ]
  },
  {
   "cell_type": "code",
   "execution_count": null,
   "id": "f7623ed0",
   "metadata": {},
   "outputs": [],
   "source": [
    "# We structure parameters as a dictionary to allow for easy expansion in the future\n",
    "# If we need to add more parameters, we can simply add them to this dictionary\n",
    "\n",
    "params = {\n",
    "    'chainid':1, # Chain ID for Ethereum Mainnet\n",
    "    'module':'account', # Module for account-related actions\n",
    "    'action':'balance', # Action to get the account balance\n",
    "    'address':'0xde0b295669a9fd93d5f28d9ec85e40f4cb697bae',\n",
    "    'tag':'latest', # Tag to specify the latest block\n",
    "    'apikey':ETHERSCAN_API_KEY # API Key for Etherscan\n",
    "}\n",
    "\n",
    "response = requests.get(url=etherscan_url, params=params) # Making the GET request to Etherscan API\n",
    "response.raise_for_status() # Raise an error for bad responses (4xx or 5xx status codes)\n",
    "data = response.json() # Parsing the JSON response"
   ]
  },
  {
   "cell_type": "code",
   "execution_count": null,
   "id": "0f426af2",
   "metadata": {},
   "outputs": [],
   "source": [
    "# Display the data\n",
    "print(f'API Response:\\n{json.dumps(data, indent=4)}') # Pretty print the JSON data with an indentation of 4 spaces"
   ]
  },
  {
   "cell_type": "code",
   "execution_count": null,
   "id": "188830f6",
   "metadata": {},
   "outputs": [],
   "source": [
    "type(data) # Check the type of the data\n",
    "# Python interpretes as a dictionary, which is a key-value pair structure"
   ]
  },
  {
   "cell_type": "code",
   "execution_count": null,
   "id": "d8193936",
   "metadata": {},
   "outputs": [],
   "source": [
    "data.keys() # Displays the keys of the response"
   ]
  },
  {
   "cell_type": "code",
   "execution_count": null,
   "id": "a81403f0",
   "metadata": {},
   "outputs": [],
   "source": [
    "data['status'] # Display the status of the response (1 means success, 0 means error)"
   ]
  },
  {
   "cell_type": "code",
   "execution_count": null,
   "id": "a5429c27",
   "metadata": {},
   "outputs": [],
   "source": [
    "data['message'] # Lets us know if there was an error or not (if OK, it will be \"OK\")"
   ]
  },
  {
   "cell_type": "code",
   "execution_count": null,
   "id": "1cd1da1d",
   "metadata": {},
   "outputs": [],
   "source": [
    "data['result']  # Display the result of the response, which contains the account balance (raw value)"
   ]
  },
  {
   "cell_type": "code",
   "execution_count": null,
   "id": "ffc76759",
   "metadata": {},
   "outputs": [],
   "source": [
    "# Convert the balance from Wei to Ether\n",
    "# We are able to parse the balance from the JSON response similar to how we would parse a dictionary in Python\n",
    "\n",
    "balance_wei = int(data['result']) # Extracting the balance in Wei from the response\n",
    "balance_ether = balance_wei / 10**18 # Converting Wei to Ether\n",
    "print(f'Balance in Ether: {balance_ether}') # Displaying the balance in Ether"
   ]
  },
  {
   "cell_type": "markdown",
   "id": "891a209f",
   "metadata": {},
   "source": [
    "### Get transactions Status by tx hash"
   ]
  },
  {
   "cell_type": "code",
   "execution_count": null,
   "id": "ea3e43d5",
   "metadata": {},
   "outputs": [],
   "source": [
    "params = {\n",
    "    'chainid':1, # Chain ID for Ethereum Mainnet\n",
    "    'module':'transaction', # Module for account-related actions\n",
    "    'action':'gettxreceiptstatus', # Action to get the account \n",
    "    'txhash':'0x198788c7f4494fa9150f0e227ed423889364e1461350690613ff4c1b8e534d2a',\n",
    "    'apikey':ETHERSCAN_API_KEY # API Key for Etherscan\n",
    "}\n",
    "\n",
    "r = requests.get(etherscan_url, params=params) # Making the GET request to Etherscan API\n",
    "r.raise_for_status() # Raise an error for bad responses (4xx or 5xx status codes)\n",
    "data = r.json() # Parsing the JSON response\n",
    "\n",
    "# Display the data\n",
    "print(f'API Response:\\n{json.dumps(data, indent=4)}') # Pretty print the JSON data with an indentation of 4 spaces"
   ]
  },
  {
   "cell_type": "markdown",
   "id": "a7592188",
   "metadata": {
    "vscode": {
     "languageId": "html"
    }
   },
   "source": [
    "### Get \"Normal\" transactions for a specific address using Etherscan API"
   ]
  },
  {
   "cell_type": "code",
   "execution_count": null,
   "id": "c39f1725",
   "metadata": {},
   "outputs": [],
   "source": [
    "params = {\n",
    "    'chainid':1, # Chain ID for Ethereum Mainnet\n",
    "    'module':'account', # Module for account-related actions\n",
    "    'action':'txlist', # Action to get the account balance\n",
    "    'address':'0xc5102fE9359FD9a28f877a67E36B0F050d81a3CC',\n",
    "    'startblock':0, # Tag to specify the latest block\n",
    "    'endblock':99999999, # Tag to specify the latest block\n",
    "    'apikey':ETHERSCAN_API_KEY # API Key for Etherscan\n",
    "}\n",
    "\n",
    "r = requests.get(etherscan_url, params=params) # Making the GET request to Etherscan API\n",
    "r.raise_for_status() # Raise an error for bad responses (4xx or 5xx status codes)\n",
    "data = r.json() # Parsing the JSON response"
   ]
  },
  {
   "cell_type": "code",
   "execution_count": null,
   "id": "ffca8742",
   "metadata": {},
   "outputs": [],
   "source": [
    "# Display the data\n",
    "print(f'API Response:\\n{json.dumps(data, indent=4)}') # Pretty print the JSON data with an indentation of 4 spaces"
   ]
  },
  {
   "cell_type": "code",
   "execution_count": null,
   "id": "dc1ab2b6",
   "metadata": {},
   "outputs": [],
   "source": [
    "# Lets extract transactions from the response and convert it to a pandas DataFrame\n",
    "\n",
    "transactions = data['result'] # Extracting the transactions from the response\n",
    "df = pd.DataFrame(transactions) # Converting the transactions to a pandas DataFrame\n",
    "df.head()"
   ]
  },
  {
   "cell_type": "code",
   "execution_count": null,
   "id": "6c544f0c",
   "metadata": {},
   "outputs": [],
   "source": [
    "# If you want to look up a specific transaction, you can use the transaction hash\n",
    "df['hash'].unique()"
   ]
  },
  {
   "cell_type": "markdown",
   "id": "0abd185e",
   "metadata": {},
   "source": [
    "## Get Event logs for a specific address using etherscan API"
   ]
  },
  {
   "cell_type": "code",
   "execution_count": null,
   "id": "46ba0b11",
   "metadata": {},
   "outputs": [],
   "source": [
    "# Events usually contain informationabout the state changes in the contract, such as transfers, approvals, etc.\n",
    "# Event logs are used to track events emitted by the smart contracts\n",
    "\n",
    "params = {\n",
    "    'chainid':1, # Chain ID for Ethereum Mainnet\n",
    "    'module':'logs', # Module for account-related actions\n",
    "    'action':'getLogs', # Action to get the account balance\n",
    "    'address':'0xbd3531da5cf5857e7cfaa92426877b022e612cf8', # contract address\n",
    "    'startblock':12878196, # Tag to specify the latest block\n",
    "    'endblock':12878196, # Tag to specify the latest block\n",
    "    'apikey':ETHERSCAN_API_KEY # API Key for Etherscan\n",
    "}\n",
    "\n",
    "r = requests.get(etherscan_url, params=params) # Making the GET request to Etherscan API\n",
    "r.raise_for_status() # Raise an error for bad responses (4xx or 5xx status codes)\n",
    "data = r.json() # Parsing the JSON response"
   ]
  },
  {
   "cell_type": "code",
   "execution_count": null,
   "id": "db96bfca",
   "metadata": {},
   "outputs": [],
   "source": [
    "# Display the data\n",
    "print(f'API Response:\\n{json.dumps(data, indent=4)}') # Pretty print the JSON data with an indentation of 4 spaces"
   ]
  },
  {
   "cell_type": "code",
   "execution_count": null,
   "id": "f6d4d313",
   "metadata": {},
   "outputs": [],
   "source": [
    "# Lets extract the event logs from the response and convert it to a pandas DataFrame \n",
    "\n",
    "logs = data['result'] # Extracting the transactions from the response\n",
    "df = pd.DataFrame(logs) # Converting the transactions to a pandas DataFrame\n",
    "df.head()"
   ]
  },
  {
   "cell_type": "markdown",
   "id": "f73a64a4",
   "metadata": {},
   "source": [
    "## Get event logs filtered by topics"
   ]
  },
  {
   "cell_type": "code",
   "execution_count": null,
   "id": "0148b1fa",
   "metadata": {},
   "outputs": [],
   "source": [
    "# Topics are used to filter event logs by specific events or parameters\n",
    "\n",
    "params = {\n",
    "    'chainid':1, # Chain ID for Ethereum Mainnet\n",
    "    'module':'logs', # Module for account-related actions\n",
    "    'action':'getLogs', # Action to get the total supply of a token\n",
    "    'startblock':12878196, # Tag to specify the latest block\n",
    "    'endblack':12878196, # Tag to specify the latest block\n",
    "    'topic0':'0xddf252ad1be2c89b69c2b068fc378daa952ba7f163c4a11628f55a4df523b3ef', # Topic for Transfer event\n",
    "    'topic_0_opr': 'and',\n",
    "    'topic1':'0x0000000000000000000000000000000000000000000000000000000000000000', # Topic for specific adderess\n",
    "    # 'contractaddress':'0x6b175474e89094c44da98b954eedeac495271d0f', # Contract address of the token (DAI in this case)\n",
    "    'apikey':ETHERSCAN_API_KEY # API Key for Etherscan\n",
    "}\n",
    "r = requests.get(etherscan_url, params=params) # Making the GET request to Etherscan API (creates instance of Response object)\n",
    "r.raise_for_status() # Raise an error for bad responses (4xx or 5xx status codes)\n",
    "data = r.json() # Parsing the JSON response"
   ]
  },
  {
   "cell_type": "code",
   "execution_count": null,
   "id": "a00e8678",
   "metadata": {},
   "outputs": [],
   "source": [
    "# Display the data\n",
    "print(f'API Response:\\n{json.dumps(data, indent=4)}') # Pretty print the JSON data with an indentation of 4 spaces"
   ]
  },
  {
   "cell_type": "markdown",
   "id": "c63bdb90",
   "metadata": {},
   "source": [
    "## Get ERC20- Token TotalSupply by ContractAddress"
   ]
  },
  {
   "cell_type": "code",
   "execution_count": null,
   "id": "101aad56",
   "metadata": {},
   "outputs": [],
   "source": [
    "params = {\n",
    "    'chainid':1, # Chain ID for Ethereum Mainnet\n",
    "    'module':'stats', # Module for account-related actions\n",
    "    'action':'tokensupply', # Action to get the total supply of a token\n",
    "    'contractaddress':'0x6b175474e89094c44da98b954eedeac495271d0f', # Contract address of the token (DAI in this case)\n",
    "    'apikey':ETHERSCAN_API_KEY # API Key for Etherscan\n",
    "}\n",
    "\n",
    "r = requests.get(etherscan_url, params=params) # Making the GET request to Etherscan API (creates instance of Response object)\n",
    "r.raise_for_status() # Raise an error for bad responses (4xx or 5xx status codes)\n",
    "data = r.json() # Parsing the JSON response"
   ]
  },
  {
   "cell_type": "code",
   "execution_count": null,
   "id": "089482bc",
   "metadata": {},
   "outputs": [],
   "source": [
    "# Display the data\n",
    "print(f'API Response:\\n{json.dumps(data, indent=4)}') # Pretty print the JSON data with an indentation of 4 spaces"
   ]
  },
  {
   "cell_type": "code",
   "execution_count": null,
   "id": "24e78479",
   "metadata": {},
   "outputs": [],
   "source": [
    "# Convert the balance from Wei to Ether\n",
    "balance_wei = int(data['result']) # Extracting the balance in Wei from the response\n",
    "balance_ether = balance_wei / 10**18 # Converting Wei to Ether\n",
    "print(f'Total Supply: {balance_ether:,.2f} DAI') # Displaying the total supply"
   ]
  },
  {
   "cell_type": "markdown",
   "id": "05dcbe20",
   "metadata": {},
   "source": [
    "## Get ERC20-Token Account Balance for TokenContractAddress"
   ]
  },
  {
   "cell_type": "code",
   "execution_count": null,
   "id": "aed960ca",
   "metadata": {},
   "outputs": [],
   "source": [
    "# Returns the current balance of an ERC-20 token of an address.\n",
    "# This is similar to the previous example, but we are using a different action to get the account balance of a specific token\n",
    "\n",
    "params = {\n",
    "    'chainid':1, # Chain ID for Ethereum Mainnet\n",
    "    'module':'account', # Module for account-related actions\n",
    "    'action':'tokenbalance', # Action to get the total supply of a token\n",
    "    'contractaddress':'0x6b175474e89094c44da98b954eedeac495271d0f', # Contract address of the token (DAI in this case)\n",
    "    'address':'0xf6e72Db5454dd049d0788e411b06CfAF16853042', # SKY Peg Stability Module address (Helps keep the price of SKY stable)\n",
    "    'apikey':ETHERSCAN_API_KEY # API Key for Etherscan\n",
    "}\n",
    "\n",
    "try:\n",
    "    r = requests.get(etherscan_url, params=params) # Making the GET request to Etherscan API (creates instance of Response object)\n",
    "    r.raise_for_status() # Raise an error for bad responses (4xx or 5xx status codes)\n",
    "    data = r.json() # Parsing the JSON response\n",
    "except requests.exceptions.HTTPError as err:\n",
    "    print(f'HTTP error occurred: {err}')"
   ]
  },
  {
   "cell_type": "code",
   "execution_count": null,
   "id": "9e81b0a5",
   "metadata": {},
   "outputs": [],
   "source": [
    "# Display the data\n",
    "print(f'API Response:\\n{json.dumps(data, indent=4)}') # Pretty print the JSON data with an indentation of 4 spaces"
   ]
  },
  {
   "cell_type": "code",
   "execution_count": null,
   "id": "3095fee4",
   "metadata": {},
   "outputs": [],
   "source": [
    "# Convert the balance from Wei to Ether\n",
    "balance_wei = int(data['result']) # Extracting the balance in Wei from the response\n",
    "balance_ether = balance_wei / 10**18 # Converting Wei to Ether\n",
    "print(f'Total Supply: {balance_ether:,.2f} DAI') # Displaying the total supply"
   ]
  },
  {
   "cell_type": "markdown",
   "id": "2ff746fc",
   "metadata": {},
   "source": [
    "### Gas Tracker Metrics\n",
    "\n"
   ]
  },
  {
   "cell_type": "code",
   "execution_count": null,
   "id": "e21601b3",
   "metadata": {},
   "outputs": [],
   "source": [
    "# Gas Oracle Prices (For Priority Fees)\n",
    "# The gas prices are returned in Gwei\n",
    "\n",
    "params = {\n",
    "    'chainid':1, # Chain ID for Ethereum Mainnet\n",
    "    'module':'gastracker', # Module for gas tracker actions\n",
    "    'action':'gasoracle', # Action to get the gas oracle prices\n",
    "    'apikey':ETHERSCAN_API_KEY # API Key for Etherscan\n",
    "}\n",
    "r = requests.get(etherscan_url, params) # Making the GET request to Etherscan API\n",
    "r.raise_for_status() # Raise an error for bad responses (4xx or 5xx status codes)\n",
    "data = r.json() # Parsing the JSON response\n",
    "\n",
    "print(f'API Response:\\n{json.dumps(data, indent=4)}') # Pretty print the JSON data with an indentation of 4 spaces"
   ]
  },
  {
   "cell_type": "markdown",
   "id": "10a22b00",
   "metadata": {},
   "source": [
    "## CoinGecko"
   ]
  },
  {
   "cell_type": "code",
   "execution_count": null,
   "id": "0c66721f",
   "metadata": {},
   "outputs": [],
   "source": [
    "coingecko_url = 'https://api.coingecko.com/api/v3'"
   ]
  },
  {
   "cell_type": "code",
   "execution_count": null,
   "id": "08f56f77",
   "metadata": {},
   "outputs": [],
   "source": [
    "headers = {\n",
    "    \"accept\": \"application/json\",\n",
    "    \"x-cg-demo-api-key\": COINGECKO_API_KEY  # Using the API key for authentication\n",
    "}"
   ]
  },
  {
   "cell_type": "markdown",
   "id": "75441616",
   "metadata": {},
   "source": [
    "## Check API Server Status"
   ]
  },
  {
   "cell_type": "code",
   "execution_count": null,
   "id": "edf86229",
   "metadata": {},
   "outputs": [],
   "source": [
    "r = requests.get(coingecko_url + '/ping', headers=headers) # Making the GET request to CoinGecko API\n",
    "r.raise_for_status() # Raise an error for bad responses (4xx or 5xx status codes)\n",
    "data = r.json() # Parsing the JSON response\n",
    "# Display the data\n",
    "print(f'API Response:\\n{json.dumps(data, indent=4)}') # Pretty"
   ]
  },
  {
   "cell_type": "markdown",
   "id": "cdb9dac5",
   "metadata": {},
   "source": [
    "## Coingecko API allows us to get a list of coins available on the platform"
   ]
  },
  {
   "cell_type": "code",
   "execution_count": null,
   "id": "7d77f8a6",
   "metadata": {},
   "outputs": [],
   "source": [
    "# This is useful for getting the list of coins and their IDs, which can be used to\n",
    "\n",
    "r = requests.get(coingecko_url + '/coins/list', headers=headers) # Making the GET request to CoinGecko API\n",
    "r.raise_for_status()\n",
    "data = r.json() # Parsing the JSON response\n",
    "print(f'API Response:\\n{json.dumps(data, indent=4)}') # Pretty print the JSON data with an indentation of 4 spaces"
   ]
  },
  {
   "cell_type": "code",
   "execution_count": null,
   "id": "9fb9b649",
   "metadata": {},
   "outputs": [],
   "source": [
    "type(data) # Check the type of the data \n",
    "# List of dictionaries, each representing a coin with its market data"
   ]
  },
  {
   "cell_type": "code",
   "execution_count": null,
   "id": "7a129599",
   "metadata": {},
   "outputs": [],
   "source": [
    "data[1].keys() # Display the keys of the first coin in the response"
   ]
  },
  {
   "cell_type": "code",
   "execution_count": null,
   "id": "d9efbe00",
   "metadata": {},
   "outputs": [],
   "source": [
    "data[1]['id'] # Extract the ID of a coin in the response"
   ]
  },
  {
   "cell_type": "markdown",
   "id": "126a8256",
   "metadata": {},
   "source": [
    "## Market data for a supported coin"
   ]
  },
  {
   "cell_type": "code",
   "execution_count": null,
   "id": "f2eb5a33",
   "metadata": {},
   "outputs": [],
   "source": [
    "# This endpoint returns the current market data for a specific coin, including its price, market cap\n",
    "# Run for Top 10\n",
    "params={\n",
    "    'vs_currency': 'usd', \n",
    "    'order': 'market_cap_desc', # specifying the order of results by market cap\n",
    "    'per_page': 10, # specifying the number of results per page\n",
    "    'page': 1, # specifying the page number\n",
    "    'sparkline': False\n",
    "}\n",
    "\n",
    "r = requests.get(coingecko_url + '/coins/markets', params=params, headers=headers)\n",
    "r.raise_for_status() # Raise an error for bad responses (4xx or 5xx status codes)\n",
    "data = r.json() # Parsing the JSON response\n",
    "# Display the data\n",
    "print(f'API Response:\\n{json.dumps(data, indent=4)}') # Pretty"
   ]
  },
  {
   "cell_type": "code",
   "execution_count": null,
   "id": "8819dfc8",
   "metadata": {},
   "outputs": [],
   "source": [
    "params={\n",
    "    'vs_currency': 'usd', \n",
    "    'order': 'market_cap_desc', # specifying the order of results by market cap\n",
    "    'per_page': 10, # specifying the number of results per page\n",
    "    'page': 1, # specifying the page number\n",
    "    'sparkline': False\n",
    "}\n",
    "\n",
    "r = requests.get(coingecko_url + '/coins/markets', params=params) # without the headers\n",
    "r.raise_for_status() # Raise an error for bad responses (4xx or 5xx status codes)\n",
    "data = r.json() # Parsing the JSON response\n",
    "# Display the data\n",
    "print(f'API Response:\\n{json.dumps(data, indent=4)}') # Pretty"
   ]
  },
  {
   "cell_type": "code",
   "execution_count": null,
   "id": "1e4c635f",
   "metadata": {},
   "outputs": [],
   "source": [
    "# Extract the price for the first crypto in the response\n",
    "\n",
    "btc_price = data[0]['current_price'] # Extracting the current price of Bitcoin\n",
    "print(f'Current Bitcoin Price: ${btc_price:,.2f}') # Displaying the current price of Bitcoin"
   ]
  },
  {
   "cell_type": "code",
   "execution_count": null,
   "id": "8fb3cff8",
   "metadata": {},
   "outputs": [],
   "source": [
    "# Extract the symbol of the first crypto\n",
    "\n",
    "btc_symbol = data[0]['symbol'].upper() # Extracting the symbol of Bitcoin\n",
    "print(f'Bitcoin Symbol: {btc_symbol}') # Displaying the symbol of Bitcoin"
   ]
  },
  {
   "cell_type": "code",
   "execution_count": null,
   "id": "f1657299",
   "metadata": {},
   "outputs": [],
   "source": [
    "# This ID can be found in the list of coins we fetched earlier.\n",
    "\n",
    "coin = 'usds'\n",
    "\n",
    "r = requests.get(coingecko_url + f'/coins/{coin}', headers=headers)\n",
    "r.raise_for_status() # Raise an error for bad responses (4xx or 5xx status codes)\n",
    "data = r.json() # Parsing the JSON response \n",
    "# Display the data\n",
    "print(f'API Response:\\n{json.dumps(data, indent=4)}') # Pretty print the JSON data with an indentation of 4 spaces"
   ]
  },
  {
   "cell_type": "code",
   "execution_count": null,
   "id": "e9fc4828",
   "metadata": {},
   "outputs": [],
   "source": [
    "type(data) # Check the type of data\n",
    "# If we are only looking for data for a specific coin, API may respond with a dictionary instead of a list"
   ]
  },
  {
   "cell_type": "code",
   "execution_count": null,
   "id": "2eb1febf",
   "metadata": {},
   "outputs": [],
   "source": [
    "# IF we parse the response as json, we can access the keys and values directly\n",
    "data.keys() # Display the keys of the JSON response to understand the structure"
   ]
  },
  {
   "cell_type": "code",
   "execution_count": null,
   "id": "eb1351cb",
   "metadata": {},
   "outputs": [],
   "source": [
    "# returns the blockchains its available on and address\n",
    "# This unlocks powerful workflows and features, such as tracking the coin acrooss different blockchains and platforms\n",
    "# Apps you create can dynamically adapt to the platforms a coin is available on\n",
    "# For example, you can use this  to instantiate a token contract in web3.py or other libraries\n",
    "\n",
    "data['detail_platforms']"
   ]
  },
  {
   "cell_type": "code",
   "execution_count": null,
   "id": "b33eedab",
   "metadata": {},
   "outputs": [],
   "source": [
    "data['detail_platforms']['ethereum']['contract_address'] # Extract the contract address of the coin on Ethereum blockchain"
   ]
  },
  {
   "cell_type": "markdown",
   "id": "ea4554de",
   "metadata": {},
   "source": [
    "## Display trading pairs (tickers) for the coin across different exchanges"
   ]
  },
  {
   "cell_type": "code",
   "execution_count": null,
   "id": "424f5a0b",
   "metadata": {},
   "outputs": [],
   "source": [
    "# This is useful for getting the trading pairs and their prices, which can be used to track the coin's performance\n",
    "\n",
    "r = requests.get(coingecko_url + f'/coins/{coin}/tickers', headers=headers)\n",
    "r.raise_for_status() # Raise an error for bad responses (4xx or 5xx status codes)\n",
    "data = r.json() # Parsing the JSON response\n",
    "# Display the data\n",
    "print(f'API Response:\\n{json.dumps(data, indent=4)}') # Pretty print the JSON data with an indentation of 4 spaces"
   ]
  },
  {
   "cell_type": "markdown",
   "id": "08050919",
   "metadata": {},
   "source": [
    "## Fetch detailes metadata for a specific coin by iots ID e.g bitcoin"
   ]
  },
  {
   "cell_type": "code",
   "execution_count": null,
   "id": "e01cd4ee",
   "metadata": {},
   "outputs": [],
   "source": [
    "type(data) # Check the type of data"
   ]
  },
  {
   "cell_type": "code",
   "execution_count": null,
   "id": "07a33cb1",
   "metadata": {},
   "outputs": [],
   "source": [
    "data.keys()"
   ]
  },
  {
   "cell_type": "code",
   "execution_count": null,
   "id": "a348dd2d",
   "metadata": {},
   "outputs": [],
   "source": [
    "type(data['tickers'])\n",
    "\n",
    "for ticker in data['tickers']:\n",
    "    print(f\"Exchange: {ticker['market']['name']}, Pair: {ticker['base']} / {ticker['target']}, Price: {ticker['last']}, Volume: {ticker['volume']}\") # Displaying the exchange, pair, price, and volume for each ticker"
   ]
  },
  {
   "cell_type": "markdown",
   "id": "f799c6d1",
   "metadata": {},
   "source": [
    "## Obtain historical data (price, market cap, volume) for a coin on a specific date"
   ]
  },
  {
   "cell_type": "code",
   "execution_count": null,
   "id": "f386bf04",
   "metadata": {},
   "outputs": [],
   "source": [
    "coin = 'bitcoin' # Passed as path parameter\n",
    "params = {\n",
    "    \"date\": \"30-12-2024\", # Date in the format DD-MM-YYY\n",
    "}\n",
    "\n",
    "r = requests.get(coingecko_url + f'/coins/{coin}/tickers', headers=headers)\n",
    "r.raise_for_status() # Raise an error for bad responses (4xx or 5xx status codes)\n",
    "data = r.json() # Parsing the JSON response\n",
    "# Display the data\n",
    "print(f'API Response:\\n{json.dumps(data, indent=4)}') # Pretty print the JSON data with an indentation of 4 spaces"
   ]
  },
  {
   "cell_type": "markdown",
   "id": "222ccad0",
   "metadata": {},
   "source": [
    "## Get historical Chart data (Price, market cap, volume)"
   ]
  },
  {
   "cell_type": "code",
   "execution_count": null,
   "id": "7321786c",
   "metadata": {},
   "outputs": [],
   "source": [
    "params = {\n",
    "    'vs_currency': 'usd', # Currency to get the data in\n",
    "    'days': '30', # Number of days to get the data for\n",
    "    'interval': 'daily' # Interval for the data (daily, hourly, etc.)\n",
    "}\n",
    "\n",
    "r = requests.get(coingecko_url + f'/coins/{coin}/market_chart', params=params, headers=headers)\n",
    "r.raise_for_status() # Raise an error for bad responses (4xx or 5xx status codes)\n",
    "data = r.json() # Parsing the JSON response\n",
    "# Display the data\n",
    "print(f'API Response:\\n{json.dumps(data, indent=4)}') # Pretty p"
   ]
  },
  {
   "cell_type": "code",
   "execution_count": null,
   "id": "fa33b53d",
   "metadata": {},
   "outputs": [],
   "source": [
    "type(data)"
   ]
  },
  {
   "cell_type": "code",
   "execution_count": null,
   "id": "bef85dfa",
   "metadata": {},
   "outputs": [],
   "source": [
    "data.keys()"
   ]
  },
  {
   "cell_type": "code",
   "execution_count": null,
   "id": "ff053286",
   "metadata": {},
   "outputs": [],
   "source": [
    "data['prices']"
   ]
  },
  {
   "cell_type": "code",
   "execution_count": null,
   "id": "24ad055f",
   "metadata": {},
   "outputs": [],
   "source": [
    "# Now Lets create a DataFrame from the historical price data\n",
    "\n",
    "historical_data_df = pd.DataFrame(data['prices'], columns=['dt','price']) # Extracting the prices from the response\n",
    "historical_data_df.set_index('dt', inplace=True) # Setting the date as the index\n",
    "historical_data_df.index = pd.to_datetime(historical_data_df.index, unit='ms') # Converting the date to a datetime object\n",
    "historical_data_df.head() # Displaying the first few rows of the DataFrame"
   ]
  },
  {
   "cell_type": "code",
   "execution_count": null,
   "id": "98673935",
   "metadata": {},
   "outputs": [],
   "source": [
    "import matplotlib.pyplot as plt"
   ]
  },
  {
   "cell_type": "code",
   "execution_count": null,
   "id": "44f6ea86",
   "metadata": {},
   "outputs": [],
   "source": [
    "# this will create a line plot of the historical prices of Bitcoin over time\n",
    "\n",
    "historical_data_df.plot(title='Bitcoin Price Over Time', figsize=(12, 6)); # Plotting the historical data"
   ]
  },
  {
   "cell_type": "markdown",
   "id": "1446ed45",
   "metadata": {},
   "source": [
    "## Fetch historical chart data within a specific time range"
   ]
  },
  {
   "cell_type": "code",
   "execution_count": null,
   "id": "d1016e22",
   "metadata": {},
   "outputs": [],
   "source": [
    "# Public API endpoints allow you to fetch historical data for a specific coin within the last 365days.\n",
    "\n",
    "coin = 'bitcoin' # Passed as path parameter\n",
    "params = {\n",
    "    'vs_currency': 'usd',\n",
    "    'from': int(pd.Timestamp('2025-01-01').timestamp()), # Start date in Unix timestamp format\n",
    "    'to': int(pd.Timestamp('2025-07-25').timestamp()) # End date in Unix timestamp format\n",
    "}\n",
    "\n",
    "r = requests.get(coingecko_url + f'/coins/{coin}/market_chart/range', params=params, headers=headers)\n",
    "r.raise_for_status() # Raise an error for bad responses (4xx or 5xx status codes)\n",
    "data = r.json() # Parsing the JSON response \n",
    "#\n",
    "print(f'API Response:\\n{json.dumps(data, indent=4)}') # Pretty print the JSON data with an indentation of 4 spaces"
   ]
  },
  {
   "cell_type": "markdown",
   "id": "fcfadd0d",
   "metadata": {},
   "source": [
    "## Retrieve metadata for a token by its contract address on a specific platform."
   ]
  },
  {
   "cell_type": "code",
   "execution_count": null,
   "id": "74f37c88",
   "metadata": {},
   "outputs": [],
   "source": [
    "platform = 'ethereum' # Specify the platform (e.g ethereum, binance-smart-chain, etc.)\n",
    "token_address = '0x6b175474e89094c44da98b954eedeac495271d0f' # DAI contract address on Ethereum\n",
    "\n",
    "r = requests.get(coingecko_url + f'/coins/{platform}/contract/{token_address}', headers=headers) # DAI contract address on Ethereum\n",
    "r.raise_for_status() # Raise an error for bad responses (4xx or 5xx status codes)\n",
    "data = r.json() # Parsing the JSON response\n",
    "# Display the data\n",
    "print(f'API Response:\\n{json.dumps(data, indent=4)}') # Pretty print the JSON data with an indentation of 4 spaces"
   ]
  },
  {
   "cell_type": "markdown",
   "id": "df6b074c",
   "metadata": {},
   "source": [
    "## List all coin categories available on CoinGecko"
   ]
  },
  {
   "cell_type": "code",
   "execution_count": null,
   "id": "020658ef",
   "metadata": {},
   "outputs": [],
   "source": [
    "r = requests.get(coingecko_url + '/coins/categories/list', headers=headers) # DAI contract address on Ethereum\n",
    "r.raise_for_status() # Raise an error for bad responses (4xx or 5xx status codes)\n",
    "data = r.json() # Parsing the JSON response\n",
    "# Display the data\n",
    "print(f'API Response:\\n{json.dumps(data, indent=4)}') # Pretty print the JSON data with an indentation of 4 spaces"
   ]
  },
  {
   "cell_type": "code",
   "execution_count": null,
   "id": "f786b08d",
   "metadata": {},
   "outputs": [],
   "source": [
    "pd.DataFrame(data) # Convert the list of categories to a DataFrame for better visualisation"
   ]
  }
 ],
 "metadata": {
  "kernelspec": {
   "display_name": "blockchain",
   "language": "python",
   "name": "python3"
  },
  "language_info": {
   "codemirror_mode": {
    "name": "ipython",
    "version": 3
   },
   "file_extension": ".py",
   "mimetype": "text/x-python",
   "name": "python",
   "nbconvert_exporter": "python",
   "pygments_lexer": "ipython3",
   "version": "3.12.3"
  }
 },
 "nbformat": 4,
 "nbformat_minor": 5
}
