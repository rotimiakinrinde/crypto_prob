{
 "cells": [
  {
   "cell_type": "code",
   "execution_count": 1,
   "id": "038f72ea",
   "metadata": {},
   "outputs": [],
   "source": [
    "import sqlite3\n",
    "import os"
   ]
  },
  {
   "cell_type": "code",
   "execution_count": 2,
   "id": "a3fc94bd",
   "metadata": {},
   "outputs": [
    {
     "name": "stdout",
     "output_type": "stream",
     "text": [
      "Database file does not exist.\n"
     ]
    }
   ],
   "source": [
    "db_path = \"crypto.db\"\n",
    "\n",
    "if os.path.exists(db_path):\n",
    "    os.remove(db_path)\n",
    "    print(\"Database file deleted.\")\n",
    "else:\n",
    "    print(\"Database file does not exist.\")"
   ]
  },
  {
   "cell_type": "code",
   "execution_count": 3,
   "id": "17879923",
   "metadata": {},
   "outputs": [
    {
     "name": "stdout",
     "output_type": "stream",
     "text": [
      "Table 'coins' created successfully.\n"
     ]
    }
   ],
   "source": [
    "# Create or connect to a database file\n",
    "conn = sqlite3.connect(db_path)\n",
    "\n",
    "# Create a cursor object to execute SQL commands\n",
    "cursor = conn.cursor()\n",
    "\n",
    "# Create a table\n",
    "cursor.execute(\"\"\"\n",
    "CREATE TABLE IF NOT EXISTS coins (\n",
    "    id INTEGER PRIMARY KEY AUTOINCREMENT,\n",
    "    name TEXT NOT NULL,\n",
    "    symbol TEXT NOT NULL,\n",
    "    price REAL,\n",
    "    market_cap REAL,\n",
    "    last_updated TIMESTAMP DEFAULT CURRENT_TIMESTAMP\n",
    ")\n",
    "\"\"\")\n",
    "\n",
    "# Save (commit) the changes\n",
    "conn.commit()\n",
    "print(\"Table 'coins' created successfully.\")"
   ]
  },
  {
   "cell_type": "markdown",
   "id": "bb5c3fbc",
   "metadata": {},
   "source": [
    "### Inserting Data"
   ]
  },
  {
   "cell_type": "code",
   "execution_count": 4,
   "id": "8722e05d",
   "metadata": {},
   "outputs": [],
   "source": [
    "# Insert single record\n",
    "cursor.execute(\"\"\"\n",
    "INSERT INTO coins (name, symbol, price, market_cap)\n",
    "VALUES ('Bitcoin', 'BTC', 50000, 950000000000)\n",
    "\"\"\")\n",
    "\n",
    "# Insert multiple records\n",
    "coins = [\n",
    "    ('Ethereum', 'ETH', 3000, 350000000000),\n",
    "    ('Cardano', 'ADA', 1.5, 50000000000),\n",
    "    ('Solana', 'SOL', 150, 50000000000)\n",
    "]\n",
    "\n",
    "cursor.executemany(\"\"\"\n",
    "INSERT INTO coins (name, symbol, price, market_cap)\n",
    "VALUES (?, ?, ?, ?)\n",
    "\"\"\", coins)\n",
    "\n",
    "conn.commit()"
   ]
  },
  {
   "cell_type": "markdown",
   "id": "89da4041",
   "metadata": {},
   "source": [
    "### Querying Data"
   ]
  },
  {
   "cell_type": "code",
   "execution_count": 5,
   "id": "8d44dfac",
   "metadata": {},
   "outputs": [
    {
     "name": "stdout",
     "output_type": "stream",
     "text": [
      "All coins: [(1, 'Bitcoin', 'BTC', 50000.0, 950000000000.0, '2025-08-11 17:51:43'), (2, 'Ethereum', 'ETH', 3000.0, 350000000000.0, '2025-08-11 17:51:43'), (3, 'Cardano', 'ADA', 1.5, 50000000000.0, '2025-08-11 17:51:43'), (4, 'Solana', 'SOL', 150.0, 50000000000.0, '2025-08-11 17:51:43')]\n",
      "Bitcoin data: (1, 'Bitcoin', 'BTC', 50000.0, 950000000000.0, '2025-08-11 17:51:43')\n",
      "Expensive coins: [('Bitcoin', 50000.0), ('Ethereum', 3000.0), ('Cardano', 1.5), ('Solana', 150.0)]\n"
     ]
    }
   ],
   "source": [
    "# Get all coins\n",
    "cursor.execute(\"SELECT * FROM coins\")\n",
    "all_coins = cursor.fetchall()  # Get all results as a list of tuples\n",
    "print(\"All coins:\", all_coins)\n",
    "\n",
    "# Get one coin\n",
    "cursor.execute(\"SELECT * FROM coins WHERE symbol = 'BTC'\")\n",
    "bitcoin = cursor.fetchone()  # Get just the first result\n",
    "print(\"Bitcoin data:\", bitcoin)\n",
    "\n",
    "# Gett specific columns with a condition\n",
    "cursor.execute(\"SELECT name, price FROM coins WHERE market_cap > 100\")\n",
    "expensive_coins = cursor.fetchall()\n",
    "print(\"Expensive coins:\", expensive_coins)\n"
   ]
  },
  {
   "cell_type": "markdown",
   "id": "cb26fc6c",
   "metadata": {},
   "source": [
    "### Updating and Deleting"
   ]
  },
  {
   "cell_type": "code",
   "execution_count": 6,
   "id": "c910cee0",
   "metadata": {},
   "outputs": [],
   "source": [
    "# Update Bitcoin's price\n",
    "cursor.execute(\"UPDATE coins SET price = 51000 WHERE symbol = 'BTC'\")\n",
    "conn.commit()\n",
    "\n",
    "# Delete cheap coins\n",
    "cursor.execute(\"DELETE FROM coins WHERE price < 2\")\n",
    "conn.commit()"
   ]
  },
  {
   "cell_type": "markdown",
   "id": "aea3ec87",
   "metadata": {},
   "source": [
    "### Using Context managers (Best Practice)"
   ]
  },
  {
   "cell_type": "code",
   "execution_count": 7,
   "id": "e971cdc9",
   "metadata": {},
   "outputs": [
    {
     "name": "stdout",
     "output_type": "stream",
     "text": [
      "[(1, 'Bitcoin', 'BTC', 51000.0, 950000000000.0, '2025-08-11 17:51:43'), (2, 'Ethereum', 'ETH', 3000.0, 350000000000.0, '2025-08-11 17:51:43'), (4, 'Solana', 'SOL', 150.0, 50000000000.0, '2025-08-11 17:51:43')]\n"
     ]
    }
   ],
   "source": [
    "# This automatically handles opening and closing the connection\n",
    "with sqlite3.connect(db_path) as conn:\n",
    "    cursor = conn.cursor()\n",
    "    cursor.execute(\"SELECT * FROM coins\")\n",
    "    print(cursor.fetchall())\n",
    "    # No need to manually close - it's handled by the 'with' blocky"
   ]
  },
  {
   "cell_type": "code",
   "execution_count": 8,
   "id": "fe84e36b",
   "metadata": {},
   "outputs": [
    {
     "name": "stdout",
     "output_type": "stream",
     "text": [
      "DataFrame from SQL:\n",
      "   id      name symbol    price    market_cap         last_updated\n",
      "0   1   Bitcoin    BTC  51000.0  9.500000e+11  2025-08-11 17:51:43\n",
      "1   2  Ethereum    ETH   3000.0  3.500000e+11  2025-08-11 17:51:43\n",
      "2   4    Solana    SOL    150.0  5.000000e+10  2025-08-11 17:51:43\n"
     ]
    }
   ],
   "source": [
    "import pandas as pd\n",
    "\n",
    "with sqlite3.connect(db_path) as conn:\n",
    "    # Read SQL query directly into a DataFrame\n",
    "    df = pd.read_sql(\"SELECT * FROM coins\", conn)\n",
    "    \n",
    "print(\"DataFrame from SQL:\")\n",
    "print(df.head())"
   ]
  },
  {
   "cell_type": "code",
   "execution_count": null,
   "id": "3efc7d11",
   "metadata": {},
   "outputs": [],
   "source": [
    "### Reading "
   ]
  },
  {
   "cell_type": "code",
   "execution_count": 11,
   "id": "192ad18c",
   "metadata": {},
   "outputs": [
    {
     "name": "stdout",
     "output_type": "stream",
     "text": [
      "\n",
      "New coins table:\n",
      "       name symbol  price  market_cap\n",
      "0  Polkadot    DOT   7.50  7500000000\n",
      "1   Polygon  MATIC   0.75  5000000000\n"
     ]
    }
   ],
   "source": [
    "# Create a new DataFrame\n",
    "new_coins = pd.DataFrame({\n",
    "    'name': ['Polkadot', 'Polygon'],\n",
    "    'symbol': ['DOT', 'MATIC'],\n",
    "    'price': [7.5, 0.75],\n",
    "    'market_cap': [7500000000, 5000000000]\n",
    "})\n",
    "\n",
    "with sqlite3.connect(db_path) as conn:\n",
    "    # Write the DataFrame to a new SQL table\n",
    "    new_coins.to_sql(\"new_coins\", conn, index=False, if_exists='replace')\n",
    "\n",
    "# Verify it worked\n",
    "    df_new = pd.read_sql(\"SELECT * FROM new_coins\", conn)\n",
    "    print(\"\\nNew coins table:\")\n",
    "    print(df_new)"
   ]
  },
  {
   "cell_type": "markdown",
   "id": "f2bf8b9f",
   "metadata": {},
   "source": [
    "### Anlysing SQL Data with Pandas"
   ]
  },
  {
   "cell_type": "code",
   "execution_count": 12,
   "id": "cf1858e8",
   "metadata": {},
   "outputs": [
    {
     "name": "stdout",
     "output_type": "stream",
     "text": [
      "\n",
      "Basic statistics:\n",
      "             id         price    market_cap\n",
      "count  3.000000      3.000000  3.000000e+00\n",
      "mean   2.333333  18050.000000  4.500000e+11\n",
      "std    1.527525  28571.095534  4.582576e+11\n",
      "min    1.000000    150.000000  5.000000e+10\n",
      "25%    1.500000   1575.000000  2.000000e+11\n",
      "50%    2.000000   3000.000000  3.500000e+11\n",
      "75%    3.000000  27000.000000  6.500000e+11\n",
      "max    4.000000  51000.000000  9.500000e+11\n",
      "\n",
      "Average price: 18050.0\n",
      "Total market cap: 1350000000000.0\n",
      "\n",
      "Expensive coins:\n",
      "       name    price\n",
      "0   Bitcoin  51000.0\n",
      "1  Ethereum   3000.0\n",
      "2    Solana    150.0\n"
     ]
    }
   ],
   "source": [
    "with sqlite3.connect(db_path) as conn:\n",
    "    df = pd.read_sql(\"SELECT * FROM coins\", conn)\n",
    "\n",
    "# Now you can use all pandas operations\n",
    "print(\"\\nBasic statistics:\")\n",
    "print(df.describe())\n",
    "\n",
    "print(\"\\nAverage price:\", df['price'].mean())\n",
    "print(\"Total market cap:\", df['market_cap'].sum())\n",
    "\n",
    "# Filter with pandas\n",
    "expensive = df[df['price'] > 100]\n",
    "print(\"\\nExpensive coins:\")\n",
    "print(expensive[['name', 'price']])"
   ]
  },
  {
   "cell_type": "markdown",
   "id": "ebc7caeb",
   "metadata": {},
   "source": [
    "### Joins & Relationships\n",
    "\n"
   ]
  },
  {
   "cell_type": "code",
   "execution_count": 13,
   "id": "71bce60c",
   "metadata": {},
   "outputs": [],
   "source": [
    "with sqlite3.connect(db_path) as conn:\n",
    "    cursor = conn.cursor()\n",
    "\n",
    "    # Drop and create coins table\n",
    "    cursor.execute(\"DROP TABLE IF EXISTS coins\")\n",
    "    cursor.execute(\"\"\"\n",
    "        CREATE TABLE coins (\n",
    "            coin_id INTEGER PRIMARY KEY AUTOINCREMENT,\n",
    "            name TEXT NOT NULL,\n",
    "            symbol TEXT NOT NULL UNIQUE\n",
    "        )\n",
    "    \"\"\")\n",
    "\n",
    "    # Create prices table with foreign key\n",
    "    cursor.execute(\"\"\"\n",
    "        CREATE TABLE IF NOT EXISTS prices (\n",
    "            price_id INTEGER PRIMARY KEY AUTOINCREMENT,\n",
    "            coin_id INTEGER NOT NULL,\n",
    "            price REAL NOT NULL,\n",
    "            date TIMESTAMP DEFAULT CURRENT_TIMESTAMP,\n",
    "            FOREIGN KEY (coin_id) REFERENCES coins (coin_id)\n",
    "        )\n",
    "    \"\"\")\n",
    "\n",
    "    # Insert some data\n",
    "    cursor.execute(\"INSERT INTO coins (name, symbol) VALUES ('Bitcoin', 'BTC')\")\n",
    "    cursor.execute(\"INSERT INTO coins (name, symbol) VALUES ('Ethereum', 'ETH')\")\n",
    "\n",
    "    # Get the auto-generated IDs\n",
    "    eth_id = cursor.lastrowid  # This will be ETH's ID\n",
    "    btc_id = eth_id - 1        # Assuming BTC was inserted just before ETH\n",
    "\n",
    "    # Insert price history\n",
    "    cursor.executemany(\"\"\"\n",
    "        INSERT INTO prices (coin_id, price)\n",
    "        VALUES (?, ?)\n",
    "    \"\"\", [\n",
    "        (btc_id, 50000),\n",
    "        (btc_id, 51000),\n",
    "        (eth_id, 3000),\n",
    "        (eth_id, 3100)\n",
    "    ])\n",
    "\n",
    "    conn.commit()\n"
   ]
  },
  {
   "cell_type": "markdown",
   "id": "fb9da31d",
   "metadata": {},
   "source": [
    "### Performing Joins\n"
   ]
  },
  {
   "cell_type": "code",
   "execution_count": 14,
   "id": "b723c5d5",
   "metadata": {},
   "outputs": [
    {
     "name": "stdout",
     "output_type": "stream",
     "text": [
      "\n",
      "Coin prices with join:\n",
      "       name symbol    price                 date\n",
      "0   Bitcoin    BTC  50000.0  2025-08-11 18:13:35\n",
      "1   Bitcoin    BTC  51000.0  2025-08-11 18:13:35\n",
      "2  Ethereum    ETH   3000.0  2025-08-11 18:13:35\n",
      "3  Ethereum    ETH   3100.0  2025-08-11 18:13:35\n"
     ]
    }
   ],
   "source": [
    "with sqlite3.connect(db_path) as conn:\n",
    "    # Simple inner join\n",
    "    df = pd.read_sql(\"\"\"\n",
    "    SELECT c.name, c.symbol, p.price, p.date\n",
    "    FROM coins c\n",
    "    INNER JOIN prices p ON c.coin_id = p.coin_id\n",
    "    ORDER BY p.date DESC\n",
    "    \"\"\", conn)\n",
    "    \n",
    "print(\"\\nCoin prices with join:\")\n",
    "print(df)"
   ]
  },
  {
   "cell_type": "code",
   "execution_count": 15,
   "id": "5a0c53d9",
   "metadata": {},
   "outputs": [
    {
     "name": "stdout",
     "output_type": "stream",
     "text": [
      "\n",
      "All coins with prices (if available):\n",
      "       name symbol    price                 date\n",
      "0   Bitcoin    BTC  50000.0  2025-08-11 18:13:35\n",
      "1   Bitcoin    BTC  51000.0  2025-08-11 18:13:35\n",
      "2  Ethereum    ETH   3000.0  2025-08-11 18:13:35\n",
      "3  Ethereum    ETH   3100.0  2025-08-11 18:13:35\n"
     ]
    }
   ],
   "source": [
    "# Example of LEFT JOIN (get all coins even if they have no prices)\n",
    "with sqlite3.connect(db_path) as conn:\n",
    "    df = pd.read_sql(\"\"\"\n",
    "    SELECT c.name, c.symbol, p.price, p.date\n",
    "    FROM coins c\n",
    "    LEFT JOIN prices p ON c.coin_id = p.coin_id\n",
    "    \"\"\", conn)\n",
    "    \n",
    "print(\"\\nAll coins with prices (if available):\")\n",
    "print(df)"
   ]
  },
  {
   "cell_type": "markdown",
   "id": "816b78bc",
   "metadata": {},
   "source": [
    "### Best Practices"
   ]
  },
  {
   "cell_type": "code",
   "execution_count": 17,
   "id": "45201332",
   "metadata": {},
   "outputs": [],
   "source": [
    "# Use context managers (with statement)\n",
    "\n",
    "with sqlite3.connect(db_path) as conn:\n",
    "    df = pd.read_sql(\"\"\"\n",
    "    SELECT *\n",
    "    FROM coins c\n",
    "    \"\"\", conn)"
   ]
  },
  {
   "cell_type": "code",
   "execution_count": 18,
   "id": "1a6b5133",
   "metadata": {},
   "outputs": [],
   "source": [
    "# Close connection with commit (if not using context manager)\n",
    "\n",
    "conn = sqlite3.connect(db_path)\n",
    "df = pd.read_sql(\"\"\"\n",
    "SELECT *\n",
    "FROM coins\n",
    "\"\"\", conn)\n",
    "conn.commit() # saving\n",
    "conn.close() # closing the database connection"
   ]
  },
  {
   "cell_type": "code",
   "execution_count": 16,
   "id": "1ef532e5",
   "metadata": {},
   "outputs": [
    {
     "name": "stdout",
     "output_type": "stream",
     "text": [
      "Indexes created.\n"
     ]
    }
   ],
   "source": [
    "# Index Frequent Columns to Improve Query Performance\n",
    "# Lets say you are frequently searching by \"symbol\" or \"name\" in the db\n",
    "\n",
    "conn = sqlite3.connect(db_path)\n",
    "cursor = conn.cursor()\n",
    "\n",
    "# Create an index on symbol\n",
    "cursor.execute(\"\"\"\n",
    "CREATE INDEX IF NOT EXISTS idx_coins_symbol ON coins(symbol);\n",
    "\"\"\")\n",
    "\n",
    "# Create an index on name\n",
    "cursor.execute(\"\"\"\n",
    "CREATE INDEX IF NOT EXISTS idx_coins_name ON coins(name);\n",
    "\"\"\")\n",
    "\n",
    "conn.commit()\n",
    "conn.close()\n",
    "print(\"Indexes created.\")"
   ]
  },
  {
   "cell_type": "code",
   "execution_count": 19,
   "id": "4767ac36",
   "metadata": {},
   "outputs": [
    {
     "name": "stdout",
     "output_type": "stream",
     "text": [
      "   coin_id     name symbol\n",
      "0        1  Bitcoin    BTC\n"
     ]
    }
   ],
   "source": [
    "with sqlite3.connect(db_path) as conn:\n",
    "    df = pd.read_sql(\"\"\"\n",
    "        SELECT *\n",
    "        FROM coins\n",
    "        WHERE symbol = 'BTC'\n",
    "    \"\"\", conn)\n",
    "\n",
    "print(df)"
   ]
  },
  {
   "cell_type": "markdown",
   "id": "09a94ebf",
   "metadata": {},
   "source": []
  },
  {
   "cell_type": "code",
   "execution_count": 20,
   "id": "1f5ec314",
   "metadata": {},
   "outputs": [
    {
     "data": {
      "text/plain": [
       "1"
      ]
     },
     "execution_count": 20,
     "metadata": {},
     "output_type": "execute_result"
    }
   ],
   "source": [
    "1 # Create a DB and solve a business question"
   ]
  },
  {
   "cell_type": "markdown",
   "id": "a6b3c222",
   "metadata": {},
   "source": []
  },
  {
   "cell_type": "code",
   "execution_count": null,
   "id": "d273ac62",
   "metadata": {},
   "outputs": [],
   "source": []
  },
  {
   "cell_type": "code",
   "execution_count": null,
   "id": "06b4629e",
   "metadata": {},
   "outputs": [],
   "source": []
  },
  {
   "cell_type": "code",
   "execution_count": null,
   "id": "7d805328",
   "metadata": {},
   "outputs": [],
   "source": []
  },
  {
   "cell_type": "code",
   "execution_count": null,
   "id": "c84f81ce",
   "metadata": {},
   "outputs": [],
   "source": []
  },
  {
   "cell_type": "code",
   "execution_count": null,
   "id": "8b1173ff",
   "metadata": {},
   "outputs": [],
   "source": []
  },
  {
   "cell_type": "code",
   "execution_count": null,
   "id": "7080e911",
   "metadata": {},
   "outputs": [],
   "source": []
  }
 ],
 "metadata": {
  "kernelspec": {
   "display_name": "blockchain",
   "language": "python",
   "name": "python3"
  },
  "language_info": {
   "codemirror_mode": {
    "name": "ipython",
    "version": 3
   },
   "file_extension": ".py",
   "mimetype": "text/x-python",
   "name": "python",
   "nbconvert_exporter": "python",
   "pygments_lexer": "ipython3",
   "version": "3.12.3"
  }
 },
 "nbformat": 4,
 "nbformat_minor": 5
}
