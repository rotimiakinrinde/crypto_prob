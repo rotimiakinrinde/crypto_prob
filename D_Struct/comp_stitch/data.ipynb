{
 "cells": [
  {
   "cell_type": "markdown",
   "id": "65bbd29d",
   "metadata": {},
   "source": [
    "### Cryptocurrency Token Data"
   ]
  },
  {
   "cell_type": "code",
   "execution_count": 1,
   "id": "2302aa27",
   "metadata": {},
   "outputs": [
    {
     "name": "stdout",
     "output_type": "stream",
     "text": [
      "[{'name': 'Token A', 'symbol': 'TKA', 'blockchain': 'Ethereum', 'current_price_usd': 100.0, 'transaction_history': [{'date': '2024-01-10', 'prices': {'open': 98.0, 'close': 100.0, 'high': 101.0, 'low': 97.0}, 'volume': 12000}, {'date': '2024-01-09', 'prices': {'open': 97.0, 'close': 98.0, 'high': 99.0, 'low': 96.0}, 'volume': 15000}], 'supported_chains': ['Ethereum', 'Polygon']}, {'name': 'Token B', 'symbol': 'TKB', 'blockchain': 'Binance Smart Chain', 'current_price_usd': 200.0, 'transaction_history': [{'date': '2024-01-10', 'prices': {'open': 198.0, 'close': 200.0, 'high': 202.0, 'low': 196.0}, 'volume': 18000}, {'date': '2024-01-09', 'prices': {'open': 196.0, 'close': 198.0, 'high': 199.0, 'low': 195.0}, 'volume': 17000}], 'supported_chains': ['Binance Smart Chain', 'Avalanche']}, {'name': 'Token C', 'symbol': 'TKC', 'blockchain': 'Solana', 'current_price_usd': 300.0, 'transaction_history': [{'date': '2024-01-10', 'prices': {'open': 295.0, 'close': 300.0, 'high': 302.0, 'low': 294.0}, 'volume': 22000}, {'date': '2024-01-09', 'prices': {'open': 294.0, 'close': 295.0, 'high': 296.0, 'low': 293.0}, 'volume': 21000}], 'supported_chains': ['Solana', 'Fantom']}]\n"
     ]
    }
   ],
   "source": [
    "crypto_tokens = [\n",
    "    {\n",
    "        \"name\": \"Token A\",\n",
    "        \"symbol\": \"TKA\",\n",
    "        \"blockchain\": \"Ethereum\",\n",
    "        \"current_price_usd\": 100.0,\n",
    "        \"transaction_history\": [\n",
    "            {\n",
    "                \"date\": \"2024-01-10\",\n",
    "                \"prices\": {\n",
    "                    \"open\": 98.0,\n",
    "                    \"close\": 100.0,\n",
    "                    \"high\": 101.0,\n",
    "                    \"low\": 97.0\n",
    "                },\n",
    "                \"volume\": 12000\n",
    "            },\n",
    "            {\n",
    "                \"date\": \"2024-01-09\",\n",
    "                \"prices\": {\n",
    "                    \"open\": 97.0,\n",
    "                    \"close\": 98.0,\n",
    "                    \"high\": 99.0,\n",
    "                    \"low\": 96.0\n",
    "                },\n",
    "                \"volume\": 15000\n",
    "            }\n",
    "        ],\n",
    "        \"supported_chains\": [\"Ethereum\", \"Polygon\"]\n",
    "    },\n",
    "    {\n",
    "        \"name\": \"Token B\",\n",
    "        \"symbol\": \"TKB\",\n",
    "        \"blockchain\": \"Binance Smart Chain\",\n",
    "        \"current_price_usd\": 200.0,\n",
    "        \"transaction_history\": [\n",
    "            {\n",
    "                \"date\": \"2024-01-10\",\n",
    "                \"prices\": {\n",
    "                    \"open\": 198.0,\n",
    "                    \"close\": 200.0,\n",
    "                    \"high\": 202.0,\n",
    "                    \"low\": 196.0\n",
    "                },\n",
    "                \"volume\": 18000\n",
    "            },\n",
    "            {\n",
    "                \"date\": \"2024-01-09\",\n",
    "                \"prices\": {\n",
    "                    \"open\": 196.0,\n",
    "                    \"close\": 198.0,\n",
    "                    \"high\": 199.0,\n",
    "                    \"low\": 195.0\n",
    "                },\n",
    "                \"volume\": 17000\n",
    "            }\n",
    "        ],\n",
    "        \"supported_chains\": [\"Binance Smart Chain\", \"Avalanche\"]\n",
    "    },\n",
    "    {\n",
    "        \"name\": \"Token C\",\n",
    "        \"symbol\": \"TKC\",\n",
    "        \"blockchain\": \"Solana\",\n",
    "        \"current_price_usd\": 300.0,\n",
    "        \"transaction_history\": [\n",
    "            {\n",
    "                \"date\": \"2024-01-10\",\n",
    "                \"prices\": {\n",
    "                    \"open\": 295.0,\n",
    "                    \"close\": 300.0,\n",
    "                    \"high\": 302.0,\n",
    "                    \"low\": 294.0\n",
    "                },\n",
    "                \"volume\": 22000\n",
    "            },\n",
    "            {\n",
    "                \"date\": \"2024-01-09\",\n",
    "                \"prices\": {\n",
    "                    \"open\": 294.0,\n",
    "                    \"close\": 295.0,\n",
    "                    \"high\": 296.0,\n",
    "                    \"low\": 293.0\n",
    "                },\n",
    "                \"volume\": 21000\n",
    "            }\n",
    "        ],\n",
    "        \"supported_chains\": [\"Solana\", \"Fantom\"]\n",
    "    }\n",
    "]\n",
    "print(crypto_tokens)\n"
   ]
  },
  {
   "cell_type": "code",
   "execution_count": 2,
   "id": "84d9b3c6",
   "metadata": {},
   "outputs": [
    {
     "name": "stdout",
     "output_type": "stream",
     "text": [
      "200.0\n"
     ]
    }
   ],
   "source": [
    "#  Display the current price of \"Token B\"\n",
    "tokenB_price = crypto_tokens[1]['current_price_usd']\n",
    "print(tokenB_price)"
   ]
  },
  {
   "cell_type": "code",
   "execution_count": 3,
   "id": "e5bb41c8",
   "metadata": {},
   "outputs": [
    {
     "name": "stdout",
     "output_type": "stream",
     "text": [
      "[{'name': 'Token A', 'symbol': 'TKA', 'blockchain': 'Ethereum', 'current_price_usd': 100.0, 'transaction_history': [{'date': '2024-01-10', 'prices': {'open': 98.0, 'close': 100.0, 'high': 101.0, 'low': 97.0}, 'volume': 12000}, {'date': '2024-01-09', 'prices': {'open': 97.0, 'close': 98.0, 'high': 99.0, 'low': 96.0}, 'volume': 15000}], 'supported_chains': ['Ethereum', 'Polygon']}, {'name': 'Token B', 'symbol': 'TKB', 'blockchain': 'Binance Smart Chain', 'current_price_usd': 200.0, 'transaction_history': [{'date': '2024-01-10', 'prices': {'open': 198.0, 'close': 200.0, 'high': 202.0, 'low': 196.0}, 'volume': 18000}, {'date': '2024-01-09', 'prices': {'open': 196.0, 'close': 198.0, 'high': 199.0, 'low': 195.0}, 'volume': 17000}], 'supported_chains': ['Binance Smart Chain', 'Avalanche']}, {'name': 'Token C', 'symbol': 'TKC', 'blockchain': 'Solana', 'current_price_usd': 300.0, 'transaction_history': [{'date': '2024-01-10', 'prices': {'open': 295.0, 'close': 300.0, 'high': 302.0, 'low': 294.0}, 'volume': 22000}, {'date': '2024-01-09', 'prices': {'open': 294.0, 'close': 295.0, 'high': 296.0, 'low': 293.0}, 'volume': 21000}], 'supported_chains': ['Solana', 'Fantom']}, {'name': 'Token D', 'symbol': 'TKD', 'blockchain': 'Cardano', 'current_price_usd': 50.0, 'transaction_history': [{'date': '2024-01-10', 'prices': {'open': 48.0, 'close': 50.0, 'high': 52.0, 'low': 47.0}, 'volume': 8000}, {'date': '2024-01-09', 'prices': {'open': 47.0, 'close': 48.0, 'high': 49.0, 'low': 46.0}, 'volume': 9500}], 'supported_chains': ['Cardano', 'Ethereum']}]\n"
     ]
    }
   ],
   "source": [
    "# Add a new token \"Token D\" with some initial data to the `crypto_tokens` list\n",
    "\n",
    "# Assign a new variable to the new token data\n",
    "new_tokenD = {\n",
    "    \"name\": \"Token D\",\n",
    "    \"symbol\": \"TKD\",\n",
    "    \"blockchain\": \"Cardano\",\n",
    "    \"current_price_usd\": 50.0,\n",
    "    \"transaction_history\": [\n",
    "        {\n",
    "            \"date\": \"2024-01-10\",\n",
    "            \"prices\": {\n",
    "                \"open\": 48.0,\n",
    "                \"close\": 50.0,\n",
    "                \"high\": 52.0,\n",
    "                \"low\": 47.0\n",
    "            },\n",
    "            \"volume\": 8000\n",
    "        },\n",
    "        {\n",
    "            \"date\": \"2024-01-09\",\n",
    "            \"prices\": {\n",
    "                \"open\": 47.0,\n",
    "                \"close\": 48.0,\n",
    "                \"high\": 49.0,\n",
    "                \"low\": 46.0\n",
    "            },\n",
    "            \"volume\": 9500\n",
    "        }\n",
    "    ],\n",
    "    \"supported_chains\": [\"Cardano\", \"Ethereum\"]\n",
    "}\n",
    "\n",
    "# Append to new_tokenD to the existing crypto_tokens\n",
    "crypto_tokens.append(new_tokenD)\n",
    "\n",
    "print(crypto_tokens)"
   ]
  },
  {
   "cell_type": "code",
   "execution_count": 4,
   "id": "5a41d010",
   "metadata": {},
   "outputs": [
    {
     "name": "stdout",
     "output_type": "stream",
     "text": [
      "{'name': 'Token A', 'symbol': 'TKA', 'blockchain': 'Ethereum', 'current_price_usd': 100.0, 'transaction_history': [{'date': '2024-01-10', 'prices': {'open': 98.0, 'close': 100.0, 'high': 101.0, 'low': 97.0}, 'volume': 12000}, {'date': '2024-01-09', 'prices': {'open': 97.0, 'close': 98.0, 'high': 99.0, 'low': 96.0}, 'volume': 15000}], 'supported_chains': ['Ethereum', 'Polygon']}\n",
      "{'name': 'Token B', 'symbol': 'TKB', 'blockchain': 'Binance Smart Chain', 'current_price_usd': 200.0, 'transaction_history': [{'date': '2024-01-10', 'prices': {'open': 198.0, 'close': 200.0, 'high': 202.0, 'low': 196.0}, 'volume': 18000}, {'date': '2024-01-09', 'prices': {'open': 196.0, 'close': 198.0, 'high': 199.0, 'low': 195.0}, 'volume': 17000}], 'supported_chains': ['Binance Smart Chain', 'Avalanche']}\n",
      "{'name': 'Token C', 'symbol': 'TKC', 'blockchain': 'Solana', 'current_price_usd': 300.0, 'transaction_history': [{'date': '2024-01-10', 'prices': {'open': 295.0, 'close': 300.0, 'high': 302.0, 'low': 294.0}, 'volume': 22000}, {'date': '2024-01-09', 'prices': {'open': 294.0, 'close': 295.0, 'high': 296.0, 'low': 293.0}, 'volume': 21000}], 'supported_chains': ['Solana', 'Fantom']}\n",
      "{'name': 'Token D', 'symbol': 'TKD', 'blockchain': 'Cardano', 'current_price_usd': 50.0, 'transaction_history': [{'date': '2024-01-10', 'prices': {'open': 48.0, 'close': 50.0, 'high': 52.0, 'low': 47.0}, 'volume': 8000}, {'date': '2024-01-09', 'prices': {'open': 47.0, 'close': 48.0, 'high': 49.0, 'low': 46.0}, 'volume': 9500}], 'supported_chains': ['Cardano', 'Ethereum']}\n"
     ]
    }
   ],
   "source": [
    "for token in crypto_tokens:\n",
    "    print(token)\n"
   ]
  },
  {
   "cell_type": "code",
   "execution_count": 5,
   "id": "7f2fefdf",
   "metadata": {},
   "outputs": [
    {
     "name": "stdout",
     "output_type": "stream",
     "text": [
      "310.0\n"
     ]
    }
   ],
   "source": [
    "#  Update the current price of \"Token C\" to 310.0.\n",
    "crypto_tokens[2].update({'current_price_usd': 310.0})\n",
    "\n",
    "print(crypto_tokens [2]['current_price_usd'])"
   ]
  },
  {
   "cell_type": "code",
   "execution_count": 6,
   "id": "3e34f063",
   "metadata": {},
   "outputs": [
    {
     "name": "stdout",
     "output_type": "stream",
     "text": [
      "[{'date': '2024-01-10', 'prices': {'open': 98.0, 'close': 100.0, 'high': 101.0, 'low': 97.0}, 'volume': 12000}]\n"
     ]
    }
   ],
   "source": [
    "# Remove the transaction history for \"Token A\" on \"2024-01-09\".\n",
    "crypto_tokens[0]['transaction_history'].pop(1)\n",
    "\n",
    "print(crypto_tokens[0]['transaction_history'])"
   ]
  },
  {
   "cell_type": "code",
   "execution_count": 7,
   "id": "4a60546c",
   "metadata": {},
   "outputs": [
    {
     "name": "stdout",
     "output_type": "stream",
     "text": [
      "200.0\n"
     ]
    }
   ],
   "source": [
    "# Display the closing price of \"Token B\" on \"2024-01-10\".\n",
    "crypto_tokens[1]['transaction_history'][0]['prices']['close']\n",
    "\n",
    "print(crypto_tokens[1]['transaction_history'][0]['prices']['close'])"
   ]
  },
  {
   "cell_type": "code",
   "execution_count": 8,
   "id": "364b69c6",
   "metadata": {},
   "outputs": [
    {
     "data": {
      "text/plain": [
       "99.0"
      ]
     },
     "execution_count": 8,
     "metadata": {},
     "output_type": "execute_result"
    }
   ],
   "source": [
    "# Change the opening price of \"Token A\" on \"2024-01-10\" to 99.0.\n",
    "crypto_tokens[0][\"transaction_history\"][0][\"prices\"].update({\"open\": 99.0})\n",
    "\n",
    "crypto_tokens[0]['transaction_history'][0]['prices']['open']"
   ]
  },
  {
   "cell_type": "code",
   "execution_count": 9,
   "id": "a9ec13ea",
   "metadata": {},
   "outputs": [
    {
     "data": {
      "text/plain": [
       "{'date': '2024-01-11',\n",
       " 'prices': {'open': 300.0, 'close': 305.0, 'high': 307.0, 'low': 299.0},\n",
       " 'volume': 23000}"
      ]
     },
     "execution_count": 9,
     "metadata": {},
     "output_type": "execute_result"
    }
   ],
   "source": [
    "# Add a new transaction history entry for \"Token C\" on \"2024-01-11\".\n",
    "crypto_tokens[2][\"transaction_history\"].append({\n",
    "    \"date\": \"2024-01-11\",\n",
    "    \"prices\": {\n",
    "        \"open\": 300.0,\n",
    "        \"close\": 305.0,\n",
    "        \"high\": 307.0,\n",
    "        \"low\": 299.0\n",
    "    },\n",
    "    \"volume\": 23000\n",
    "})\n",
    "\n",
    "crypto_tokens[2]['transaction_history'][2]"
   ]
  },
  {
   "cell_type": "code",
   "execution_count": 10,
   "id": "0ece0c6c",
   "metadata": {},
   "outputs": [
    {
     "name": "stdout",
     "output_type": "stream",
     "text": [
      "['Binance Smart Chain']\n"
     ]
    }
   ],
   "source": [
    "#  Remove \"Avalanche\" from the supported chains of \"Token B\".\n",
    "crypto_tokens[1]['supported_chains'].remove('Avalanche')\n",
    "\n",
    "\n",
    "print(crypto_tokens[1]['supported_chains'])"
   ]
  },
  {
   "cell_type": "code",
   "execution_count": null,
   "id": "3612f51f",
   "metadata": {},
   "outputs": [],
   "source": []
  }
 ],
 "metadata": {
  "kernelspec": {
   "display_name": "blockchain",
   "language": "python",
   "name": "python3"
  },
  "language_info": {
   "codemirror_mode": {
    "name": "ipython",
    "version": 3
   },
   "file_extension": ".py",
   "mimetype": "text/x-python",
   "name": "python",
   "nbconvert_exporter": "python",
   "pygments_lexer": "ipython3",
   "version": "3.12.3"
  }
 },
 "nbformat": 4,
 "nbformat_minor": 5
}
