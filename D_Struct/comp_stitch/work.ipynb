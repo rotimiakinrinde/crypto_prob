{
 "cells": [
  {
   "cell_type": "code",
   "execution_count": null,
   "id": "78ed6cec",
   "metadata": {},
   "outputs": [],
   "source": [
    "0x0555E30da8f98308EdB960aa94C0Db47230d2B9c"
   ]
  }
 ],
 "metadata": {
  "kernelspec": {
   "display_name": "blockchain",
   "language": "python",
   "name": "python3"
  },
  "language_info": {
   "name": "python",
   "version": "3.12.3"
  }
 },
 "nbformat": 4,
 "nbformat_minor": 5
}
