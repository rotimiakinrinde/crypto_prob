{
 "cells": [
  {
   "cell_type": "code",
   "execution_count": 1,
   "id": "e853291e",
   "metadata": {},
   "outputs": [],
   "source": [
    "# Step 1: Setup and imports\n",
    "import sqlite3\n",
    "import os\n",
    "import pandas as pd"
   ]
  },
  {
   "cell_type": "code",
   "execution_count": 2,
   "id": "8d699f21",
   "metadata": {},
   "outputs": [
    {
     "name": "stdout",
     "output_type": "stream",
     "text": [
      "Database file deleted.\n"
     ]
    }
   ],
   "source": [
    "db_path = \"crypto.db\"\n",
    "\n",
    "# Delete existing database file if it exists\n",
    "if os.path.exists(db_path):\n",
    "    os.remove(db_path)\n",
    "    print(\"Database file deleted.\")\n",
    "else:\n",
    "    print(\"Database file does not exist.\")\n",
    "\n",
    "# Create or connect to the database\n",
    "conn = sqlite3.connect(db_path)\n",
    "cursor = conn.cursor()"
   ]
  },
  {
   "cell_type": "code",
   "execution_count": 3,
   "id": "0b7203cc",
   "metadata": {},
   "outputs": [
    {
     "name": "stdout",
     "output_type": "stream",
     "text": [
      "Tables created successfully.\n"
     ]
    }
   ],
   "source": [
    "# Create tables\n",
    "\n",
    "# Table for coin details\n",
    "cursor.execute(\"\"\"\n",
    "CREATE TABLE IF NOT EXISTS coins (\n",
    "    id INTEGER PRIMARY KEY AUTOINCREMENT,\n",
    "    name TEXT NOT NULL,\n",
    "    symbol TEXT NOT NULL,\n",
    "    market_cap REAL,\n",
    "    last_updated TIMESTAMP DEFAULT CURRENT_TIMESTAMP\n",
    ")\n",
    "\"\"\")\n",
    "\n",
    "# Table for daily prices\n",
    "cursor.execute(\"\"\"\n",
    "CREATE TABLE IF NOT EXISTS prices (\n",
    "    id INTEGER PRIMARY KEY AUTOINCREMENT,\n",
    "    coin_id INTEGER NOT NULL,\n",
    "    date TEXT NOT NULL,\n",
    "    price REAL NOT NULL,\n",
    "    FOREIGN KEY (coin_id) REFERENCES coins(id)\n",
    ")\n",
    "\"\"\")\n",
    "\n",
    "conn.commit()\n",
    "print(\"Tables created successfully.\")\n"
   ]
  },
  {
   "cell_type": "code",
   "execution_count": 4,
   "id": "dd9e2685",
   "metadata": {},
   "outputs": [
    {
     "name": "stdout",
     "output_type": "stream",
     "text": [
      "Coins inserted into 'coins' table:\n",
      "   id      name symbol    market_cap         last_updated\n",
      "0   1   Bitcoin    BTC  9.500000e+11  2025-08-13 17:14:45\n",
      "1   2  Ethereum    ETH  3.500000e+11  2025-08-13 17:14:45\n",
      "2   3   Cardano    ADA  5.000000e+10  2025-08-13 17:14:45\n"
     ]
    }
   ],
   "source": [
    "# Step 3: Insert at least 3 coins into `coins` table\n",
    "coins = [\n",
    "    (\"Bitcoin\", \"BTC\", 950000000000),\n",
    "    (\"Ethereum\", \"ETH\", 350000000000),\n",
    "    (\"Cardano\", \"ADA\", 50000000000)\n",
    "]\n",
    "\n",
    "cursor.executemany(\"\"\"\n",
    "INSERT INTO coins (name, symbol, market_cap) VALUES (?, ?, ?)\n",
    "\"\"\", coins)\n",
    "conn.commit()\n",
    "\n",
    "# Print inserted coins\n",
    "df_coins = pd.read_sql_query(\"SELECT * FROM coins\", conn)\n",
    "print(\"Coins inserted into 'coins' table:\")\n",
    "print(df_coins)\n"
   ]
  },
  {
   "cell_type": "code",
   "execution_count": 5,
   "id": "e53151aa",
   "metadata": {},
   "outputs": [
    {
     "name": "stdout",
     "output_type": "stream",
     "text": [
      "Prices inserted into 'prices' table:\n",
      "    id  coin_id        date     price\n",
      "0    1        1  2025-08-01  50000.00\n",
      "1    2        1  2025-08-02  50500.00\n",
      "2    3        1  2025-08-03  49000.00\n",
      "3    4        1  2025-08-04  51500.00\n",
      "4    5        1  2025-08-05  52000.00\n",
      "5    6        2  2025-08-01   3000.00\n",
      "6    7        2  2025-08-02   3050.00\n",
      "7    8        2  2025-08-03   3100.00\n",
      "8    9        2  2025-08-04   2950.00\n",
      "9   10        2  2025-08-05   3200.00\n",
      "10  11        3  2025-08-01      1.50\n",
      "11  12        3  2025-08-02      1.55\n",
      "12  13        3  2025-08-03      1.60\n",
      "13  14        3  2025-08-04      1.45\n",
      "14  15        3  2025-08-05      1.65\n"
     ]
    }
   ],
   "source": [
    "# Step 4: Insert 5 daily price records for each coin into `prices` table\n",
    "prices_data = [\n",
    "    # Bitcoin (id = 1)\n",
    "    (1, \"2025-08-01\", 50000),\n",
    "    (1, \"2025-08-02\", 50500),\n",
    "    (1, \"2025-08-03\", 49000),\n",
    "    (1, \"2025-08-04\", 51500),\n",
    "    (1, \"2025-08-05\", 52000),\n",
    "\n",
    "    # Ethereum (id = 2)\n",
    "    (2, \"2025-08-01\", 3000),\n",
    "    (2, \"2025-08-02\", 3050),\n",
    "    (2, \"2025-08-03\", 3100),\n",
    "    (2, \"2025-08-04\", 2950),\n",
    "    (2, \"2025-08-05\", 3200),\n",
    "\n",
    "    # Cardano (id = 3)\n",
    "    (3, \"2025-08-01\", 1.5),\n",
    "    (3, \"2025-08-02\", 1.55),\n",
    "    (3, \"2025-08-03\", 1.6),\n",
    "    (3, \"2025-08-04\", 1.45),\n",
    "    (3, \"2025-08-05\", 1.65)\n",
    "]\n",
    "\n",
    "cursor.executemany(\"\"\"\n",
    "INSERT INTO prices (coin_id, date, price) VALUES (?, ?, ?)\n",
    "\"\"\", prices_data)\n",
    "conn.commit()\n",
    "\n",
    "# Print inserted prices\n",
    "df_prices = pd.read_sql_query(\"SELECT * FROM prices\", conn)\n",
    "print(\"Prices inserted into 'prices' table:\")\n",
    "print(df_prices)\n"
   ]
  },
  {
   "cell_type": "code",
   "execution_count": 6,
   "id": "0b15bea2",
   "metadata": {},
   "outputs": [
    {
     "name": "stdout",
     "output_type": "stream",
     "text": [
      "Business Question Result: Average and Highest Price per Coin\n",
      "       name  avg_price  highest_price\n",
      "0   Bitcoin   50600.00       52000.00\n",
      "1   Cardano       1.55           1.65\n",
      "2  Ethereum    3060.00        3200.00\n"
     ]
    }
   ],
   "source": [
    "# Step 5: Business question\n",
    "# Question: What is the average price and highest price for each coin?\n",
    "\n",
    "query = \"\"\"\n",
    "SELECT \n",
    "    c.name,\n",
    "    ROUND(AVG(p.price), 2) AS avg_price,\n",
    "    MAX(p.price) AS highest_price\n",
    "FROM prices p\n",
    "JOIN coins c ON p.coin_id = c.id\n",
    "GROUP BY c.name\n",
    "\"\"\"\n",
    "\n",
    "df_result = pd.read_sql_query(query, conn)\n",
    "print(\"Business Question Result: Average and Highest Price per Coin\")\n",
    "print(df_result)\n"
   ]
  },
  {
   "cell_type": "code",
   "execution_count": 7,
   "id": "5ab09cd4",
   "metadata": {},
   "outputs": [
    {
     "name": "stdout",
     "output_type": "stream",
     "text": [
      "Database connection closed.\n"
     ]
    }
   ],
   "source": [
    "# Step 6: Close connection\n",
    "conn.close()\n",
    "print(\"Database connection closed.\")\n"
   ]
  },
  {
   "cell_type": "code",
   "execution_count": null,
   "id": "97eec0c1",
   "metadata": {},
   "outputs": [],
   "source": []
  }
 ],
 "metadata": {
  "kernelspec": {
   "display_name": "blockchain",
   "language": "python",
   "name": "python3"
  },
  "language_info": {
   "codemirror_mode": {
    "name": "ipython",
    "version": 3
   },
   "file_extension": ".py",
   "mimetype": "text/x-python",
   "name": "python",
   "nbconvert_exporter": "python",
   "pygments_lexer": "ipython3",
   "version": "3.12.3"
  }
 },
 "nbformat": 4,
 "nbformat_minor": 5
}
